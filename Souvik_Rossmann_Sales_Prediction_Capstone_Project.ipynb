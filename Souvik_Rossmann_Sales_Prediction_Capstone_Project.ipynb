{
  "cells": [
    {
      "cell_type": "markdown",
      "metadata": {
        "id": "view-in-github",
        "colab_type": "text"
      },
      "source": [
        "<a href=\"https://colab.research.google.com/github/Souvik0651/Rossmann-Sales-Prediction--Regression/blob/main/Souvik_Rossmann_Sales_Prediction_Capstone_Project.ipynb\" target=\"_parent\"><img src=\"https://colab.research.google.com/assets/colab-badge.svg\" alt=\"Open In Colab\"/></a>"
      ]
    },
    {
      "cell_type": "markdown",
      "metadata": {
        "id": "tOGC-qoyhJeX"
      },
      "source": [
        "# <b><u> Project Title : Sales Prediction : Predicting sales of a major store chain Rossmann</u></b>"
      ]
    },
    {
      "cell_type": "markdown",
      "metadata": {
        "id": "Y06xIdG26kRF"
      },
      "source": [
        "## <b> Problem Description </b>\n",
        "\n",
        "### Rossmann operates over 3,000 drug stores in 7 European countries. Currently, Rossmann store managers are tasked with predicting their daily sales for up to six weeks in advance. Store sales are influenced by many factors, including promotions, competition, school and state holidays, seasonality, and locality. With thousands of individual managers predicting sales based on their unique circumstances, the accuracy of results can be quite varied.\n",
        "\n",
        "### You are provided with historical sales data for 1,115 Rossmann stores. The task is to forecast the \"Sales\" column for the test set. Note that some stores in the dataset were temporarily closed for refurbishment."
      ]
    },
    {
      "cell_type": "markdown",
      "metadata": {
        "id": "WWeU1f9bwqQq"
      },
      "source": [
        "## <b> Data Description </b>\n",
        "\n",
        "### <b>Rossmann Stores Data.csv </b> - historical data including Sales\n",
        "### <b>store.csv </b> - supplemental information about the stores\n",
        "\n",
        "\n",
        "### <b><u>Data fields</u></b>\n",
        "### Most of the fields are self-explanatory. The following are descriptions for those that aren't.\n",
        "\n",
        "* #### Id - an Id that represents a (Store, Date) duple within the test set\n",
        "* #### Store - a unique Id for each store\n",
        "* #### Sales - the turnover for any given day (this is what you are predicting)\n",
        "* #### Customers - the number of customers on a given day\n",
        "* #### Open - an indicator for whether the store was open: 0 = closed, 1 = open\n",
        "* #### StateHoliday - indicates a state holiday. Normally all stores, with few exceptions, are closed on state holidays. Note that all schools are closed on public holidays and weekends. a = public holiday, b = Easter holiday, c = Christmas, 0 = None\n",
        "* #### SchoolHoliday - indicates if the (Store, Date) was affected by the closure of public schools\n",
        "* #### StoreType - differentiates between 4 different store models: a, b, c, d\n",
        "* #### Assortment - describes an assortment level: a = basic, b = extra, c = extended\n",
        "* #### CompetitionDistance - distance in meters to the nearest competitor store\n",
        "* #### CompetitionOpenSince[Month/Year] - gives the approximate year and month of the time the nearest competitor was opened\n",
        "* #### Promo - indicates whether a store is running a promo on that day\n",
        "* #### Promo2 - Promo2 is a continuing and consecutive promotion for some stores: 0 = store is not participating, 1 = store is participating\n",
        "* #### Promo2Since[Year/Week] - describes the year and calendar week when the store started participating in Promo2\n",
        "* #### PromoInterval - describes the consecutive intervals Promo2 is started, naming the months the promotion is started anew. E.g. \"Feb,May,Aug,Nov\" means each round starts in February, May, August, November of any given year for that store"
      ]
    },
    {
      "cell_type": "code",
      "execution_count": null,
      "metadata": {
        "id": "dByMsuzT8Tnw"
      },
      "outputs": [],
      "source": [
        "# importing numpy and pandas libraries\n",
        "import pandas as pd\n",
        "import numpy as np"
      ]
    },
    {
      "cell_type": "code",
      "execution_count": null,
      "metadata": {
        "id": "S0kP74Om8z-v"
      },
      "outputs": [],
      "source": [
        "# mounting the drive\n",
        "from google.colab import drive\n",
        "drive.mount('/content/drive')"
      ]
    },
    {
      "cell_type": "code",
      "execution_count": null,
      "metadata": {
        "id": "FFBlssHR81KV"
      },
      "outputs": [],
      "source": [
        "# reading the csv file from drive\n",
        "df1=pd.read_csv('/content/drive/MyDrive/Colab Notebooks/Capstone project2- regeression/Rossmann Stores Data.csv')"
      ]
    },
    {
      "cell_type": "code",
      "execution_count": null,
      "metadata": {
        "id": "5DNc1JEu-BQA"
      },
      "outputs": [],
      "source": [
        "# top 5 rows of dataframe\n",
        "df1.head(5)"
      ]
    },
    {
      "cell_type": "code",
      "source": [
        "# bottom 5 rows of dataframe\n",
        "df1.tail(5)"
      ],
      "metadata": {
        "id": "JEtzizE8VJ6K"
      },
      "execution_count": null,
      "outputs": []
    },
    {
      "cell_type": "code",
      "execution_count": null,
      "metadata": {
        "id": "SLQe1lMj-CeM"
      },
      "outputs": [],
      "source": [
        "# reading another dataset from drive\n",
        "df2=pd.read_csv('/content/drive/MyDrive/Colab Notebooks/Capstone project2- regeression/Store.csv')"
      ]
    },
    {
      "cell_type": "code",
      "execution_count": null,
      "metadata": {
        "id": "hL2eoDJiA6dw"
      },
      "outputs": [],
      "source": [
        "# top 5 rows of dataframe\n",
        "df2.head(5)"
      ]
    },
    {
      "cell_type": "code",
      "source": [
        "# bottom 5 rows of dataframe\n",
        "df2.tail(5)"
      ],
      "metadata": {
        "id": "0twvxyvMVoHp"
      },
      "execution_count": null,
      "outputs": []
    },
    {
      "cell_type": "code",
      "execution_count": null,
      "metadata": {
        "id": "gs3YGRXtCDBv"
      },
      "outputs": [],
      "source": [
        "# checking statistics of df2 dataframe\n",
        "df2.describe()"
      ]
    },
    {
      "cell_type": "code",
      "execution_count": null,
      "metadata": {
        "id": "gbtCiNPJClpz"
      },
      "outputs": [],
      "source": [
        "# checking information of df2 dataframe\n",
        "df2.info()"
      ]
    },
    {
      "cell_type": "code",
      "execution_count": null,
      "metadata": {
        "id": "4SL7UMJaBCk2"
      },
      "outputs": [],
      "source": [
        "# finding number of null values for df2 dataframe\n",
        "df2.isnull().sum()"
      ]
    },
    {
      "cell_type": "code",
      "execution_count": null,
      "metadata": {
        "id": "Ba9Y0Se7BEmd"
      },
      "outputs": [],
      "source": [
        "# replacing null values for df2\n",
        "df2.PromoInterval=df2.PromoInterval.fillna(0)\n",
        "df2.Promo2SinceYear =df2.Promo2SinceYear .fillna(0).astype('int64')\n",
        "df2.Promo2SinceWeek =df2.Promo2SinceWeek .fillna(0).astype('int64')"
      ]
    },
    {
      "cell_type": "code",
      "execution_count": null,
      "metadata": {
        "id": "IfTvINqlCYvQ"
      },
      "outputs": [],
      "source": [
        "# rechecking df2 information\n",
        "df2.info()"
      ]
    },
    {
      "cell_type": "code",
      "execution_count": null,
      "metadata": {
        "id": "mvPLwFGBCwBT"
      },
      "outputs": [],
      "source": [
        "# finding the median\n",
        "comp_dist_median=df2.CompetitionDistance.median()\n",
        "comp_dist_median"
      ]
    },
    {
      "cell_type": "code",
      "execution_count": null,
      "metadata": {
        "id": "BLZlPwGnD2-h"
      },
      "outputs": [],
      "source": [
        "# replacing the null values with median\n",
        "df2['CompetitionDistance']=df2.CompetitionDistance.fillna(comp_dist_median)"
      ]
    },
    {
      "cell_type": "code",
      "source": [
        "df2.CompetitionDistance=df2.CompetitionDistance.astype('int64')"
      ],
      "metadata": {
        "id": "-VezGA_ypy72"
      },
      "execution_count": null,
      "outputs": []
    },
    {
      "cell_type": "code",
      "execution_count": null,
      "metadata": {
        "id": "Jh3BAAEqEdCC"
      },
      "outputs": [],
      "source": [
        "# value counts for CompetitionOpenSinceMonth\n",
        "df2.CompetitionOpenSinceMonth.value_counts()"
      ]
    },
    {
      "cell_type": "code",
      "execution_count": null,
      "metadata": {
        "id": "aiw1G3QhENxp"
      },
      "outputs": [],
      "source": [
        "# finding mode value for a categorical column\n",
        "df2['CompetitionOpenSinceMonth']=df2.CompetitionOpenSinceMonth.fillna(int(df2.CompetitionOpenSinceMonth.mode()))"
      ]
    },
    {
      "cell_type": "code",
      "execution_count": null,
      "metadata": {
        "id": "FdxPzxv2ExKU"
      },
      "outputs": [],
      "source": [
        "# value count\n",
        "df2.CompetitionOpenSinceYear.value_counts()"
      ]
    },
    {
      "cell_type": "code",
      "source": [
        "mode1=int(df2.CompetitionOpenSinceYear.mode())"
      ],
      "metadata": {
        "id": "1py2n7dFbi3o"
      },
      "execution_count": null,
      "outputs": []
    },
    {
      "cell_type": "code",
      "execution_count": null,
      "metadata": {
        "id": "ajW7rPlxEuhd"
      },
      "outputs": [],
      "source": [
        "# finding the mode value\n",
        "df2['CompetitionOpenSinceYear']=df2.CompetitionOpenSinceYear.fillna(mode1)"
      ]
    },
    {
      "cell_type": "code",
      "source": [
        "df2.CompetitionOpenSinceYear.astype(int)"
      ],
      "metadata": {
        "id": "e91iVhFubwBE"
      },
      "execution_count": null,
      "outputs": []
    },
    {
      "cell_type": "code",
      "execution_count": null,
      "metadata": {
        "id": "QwHJG0R6FG3x"
      },
      "outputs": [],
      "source": [
        "# finding sum of null value for columns in df2\n",
        "df2.isnull().sum()"
      ]
    },
    {
      "cell_type": "code",
      "execution_count": null,
      "metadata": {
        "id": "yHoyzEW4FJr9"
      },
      "outputs": [],
      "source": [
        "#  finding sum of null value for columns in df1\n",
        "df1.isnull().sum()"
      ]
    },
    {
      "cell_type": "code",
      "execution_count": null,
      "metadata": {
        "id": "GneZ_ChnFXDQ"
      },
      "outputs": [],
      "source": [
        "# information of columns for df1\n",
        "df1.info()"
      ]
    },
    {
      "cell_type": "code",
      "execution_count": null,
      "metadata": {
        "id": "xvNKkjDIF5pN"
      },
      "outputs": [],
      "source": [
        "# information of columns for df2\n",
        "df2.info()"
      ]
    },
    {
      "cell_type": "code",
      "execution_count": null,
      "metadata": {
        "id": "tJOhvLqii6oA"
      },
      "outputs": [],
      "source": [
        "# value counts\n",
        "df2.Promo2SinceYear.value_counts()"
      ]
    },
    {
      "cell_type": "code",
      "source": [
        "df2.info()"
      ],
      "metadata": {
        "id": "GhhHAGsPZbVS"
      },
      "execution_count": null,
      "outputs": []
    },
    {
      "cell_type": "code",
      "source": [
        "df2.CompetitionOpenSinceYear.unique()"
      ],
      "metadata": {
        "id": "BQ57QQ-rZsWz"
      },
      "execution_count": null,
      "outputs": []
    },
    {
      "cell_type": "code",
      "source": [
        "df1.shape"
      ],
      "metadata": {
        "id": "4Cj14T3TIpVU"
      },
      "execution_count": null,
      "outputs": []
    },
    {
      "cell_type": "code",
      "source": [
        "df2.shape"
      ],
      "metadata": {
        "id": "VF12N9lLIsOm"
      },
      "execution_count": null,
      "outputs": []
    },
    {
      "cell_type": "code",
      "execution_count": null,
      "metadata": {
        "id": "x_8qsFGSHRDs"
      },
      "outputs": [],
      "source": [
        "# joining two dataset using outer join\n",
        "new_df1=df1.merge(df2, on= 'Store',how='outer')"
      ]
    },
    {
      "cell_type": "code",
      "execution_count": null,
      "metadata": {
        "id": "hSbR3_0gHoC1"
      },
      "outputs": [],
      "source": [
        "# shape\n",
        "new_df1.shape"
      ]
    },
    {
      "cell_type": "code",
      "source": [
        "new_df1.Customers.value_counts()"
      ],
      "metadata": {
        "id": "15gVMAD0x39r"
      },
      "execution_count": null,
      "outputs": []
    },
    {
      "cell_type": "code",
      "execution_count": null,
      "metadata": {
        "id": "apKs9msfH2RR"
      },
      "outputs": [],
      "source": [
        "# information of new dataframe\n",
        "new_df1.info()"
      ]
    },
    {
      "cell_type": "code",
      "execution_count": null,
      "metadata": {
        "id": "6Ssj02rJH4XF"
      },
      "outputs": [],
      "source": [
        "new_df1.head()"
      ]
    },
    {
      "cell_type": "code",
      "execution_count": null,
      "metadata": {
        "id": "3_esrgs61T13"
      },
      "outputs": [],
      "source": [
        "# converting to datetime\n",
        "new_df1['Date']= pd.to_datetime(new_df1.Date)"
      ]
    },
    {
      "cell_type": "code",
      "execution_count": null,
      "metadata": {
        "id": "szwSyCLAKxMc"
      },
      "outputs": [],
      "source": [
        "new_df1['Year']=new_df1.Date.dt.year"
      ]
    },
    {
      "cell_type": "code",
      "execution_count": null,
      "metadata": {
        "id": "ermNN-I6K960"
      },
      "outputs": [],
      "source": [
        "new_df1['Month']=new_df1.Date.dt.month\n",
        "new_df1['Day']=new_df1.Date.dt.day\n",
        "new_df1['month_weeks']=new_df1.Date.dt.week%4\n",
        "new_df1['total_weeks']=new_df1.Date.dt.week"
      ]
    },
    {
      "cell_type": "code",
      "execution_count": null,
      "metadata": {
        "id": "Buffr2er1kar"
      },
      "outputs": [],
      "source": [
        "new_df1.head()"
      ]
    },
    {
      "cell_type": "code",
      "execution_count": null,
      "metadata": {
        "id": "0GlVUjnHMAA5"
      },
      "outputs": [],
      "source": [
        "# importing seaborn and matplotlib lib\n",
        "import seaborn as sns"
      ]
    },
    {
      "cell_type": "code",
      "execution_count": null,
      "metadata": {
        "id": "WNNT2k00TBMH"
      },
      "outputs": [],
      "source": [
        "import matplotlib.pyplot as plt"
      ]
    },
    {
      "cell_type": "code",
      "execution_count": null,
      "metadata": {
        "id": "DEKAyCeNSNdR"
      },
      "outputs": [],
      "source": [
        "# plotting count plot for promo2 sinceyear\n",
        "sns.countplot(x='Promo2SinceYear',data= new_df1)"
      ]
    },
    {
      "cell_type": "code",
      "execution_count": null,
      "metadata": {
        "id": "OGeOWV2xR2HS"
      },
      "outputs": [],
      "source": [
        "# plotting count plot for SchoolHoliday\n",
        "plot=sns.countplot(x='SchoolHoliday', data= new_df1)\n",
        "total = len(new_df1['SchoolHoliday'])\n",
        "for p in plot.patches:\n",
        "        percentage = '{:.1f}%'.format(100 * p.get_height()/total)\n",
        "        x = p.get_x() + p.get_width() / 2 - 0.05\n",
        "        y = p.get_y() + p.get_height()\n",
        "        plot.annotate(percentage, (x, y), size = 12)\n",
        "plt.show()"
      ]
    },
    {
      "cell_type": "code",
      "execution_count": null,
      "metadata": {
        "id": "qx2wUe92Vz31"
      },
      "outputs": [],
      "source": [
        "# changing datatype to string\n",
        "new_df1.StateHoliday=new_df1.StateHoliday.astype('str')"
      ]
    },
    {
      "cell_type": "code",
      "execution_count": null,
      "metadata": {
        "id": "yoq_Xg_FRzDL"
      },
      "outputs": [],
      "source": [
        "# plotting count plot for StateHoliday\n",
        "plot1=sns.countplot(x='StateHoliday', data= new_df1)\n",
        "total = len(new_df1['StateHoliday'])\n",
        "for p in plot1.patches:\n",
        "        percentage = '{:.1f}%'.format(100 * p.get_height()/total)\n",
        "        x = p.get_x() + p.get_width() / 2 - 0.05\n",
        "        y = p.get_y() + p.get_height()\n",
        "        plot1.annotate(percentage, (x, y), size = 12)\n",
        "plt.show()"
      ]
    },
    {
      "cell_type": "code",
      "execution_count": null,
      "metadata": {
        "id": "tvcaoGnqQDFF"
      },
      "outputs": [],
      "source": [
        "# plotting count plot for promo2\n",
        "plot2=sns.countplot(x='Promo2', data= new_df1)\n",
        "total = len(new_df1['Promo2'])\n",
        "for p in plot2.patches:\n",
        "        percentage = '{:.1f}%'.format(100 * p.get_height()/total)\n",
        "        x = p.get_x() + p.get_width() / 2 - 0.05\n",
        "        y = p.get_y() + p.get_height()\n",
        "        plot2.annotate(percentage, (x, y), size = 12)\n",
        "plt.show()"
      ]
    },
    {
      "cell_type": "code",
      "execution_count": null,
      "metadata": {
        "id": "OAgqf6szP9UC"
      },
      "outputs": [],
      "source": [
        "# plotting count plot for promo\n",
        "plot3=sns.countplot(x='Promo', data= new_df1)\n",
        "total = len(new_df1['Promo'])\n",
        "for p in plot3.patches:\n",
        "        percentage = '{:.1f}%'.format(100 * p.get_height()/total)\n",
        "        x = p.get_x() + p.get_width() / 2 - 0.05\n",
        "        y = p.get_y() + p.get_height()\n",
        "        plot3.annotate(percentage, (x, y), size = 12)\n",
        "plt.show()"
      ]
    },
    {
      "cell_type": "code",
      "execution_count": null,
      "metadata": {
        "id": "QXcS9nHVP0w6"
      },
      "outputs": [],
      "source": [
        "# plotting count plot for open\n",
        "plot4=sns.countplot(x='Open', data= new_df1)\n",
        "total = len(new_df1['Open'])\n",
        "for p in plot4.patches:\n",
        "        percentage = '{:.1f}%'.format(100 * p.get_height()/total)\n",
        "        x = p.get_x() + p.get_width() / 2 - 0.05\n",
        "        y = p.get_y() + p.get_height()\n",
        "        plot4.annotate(percentage, (x, y), size = 12)\n",
        "plt.show()"
      ]
    },
    {
      "cell_type": "code",
      "execution_count": null,
      "metadata": {
        "id": "IkcDGAjbKt7z"
      },
      "outputs": [],
      "source": [
        "# plotting count plot for storetype\n",
        "plot5=sns.countplot(x='StoreType', data= new_df1)\n",
        "total = len(new_df1['StoreType'])\n",
        "for p in plot5.patches:\n",
        "        percentage = '{:.1f}%'.format(100 * p.get_height()/total)\n",
        "        x = p.get_x() + p.get_width() / 2 - 0.05\n",
        "        y = p.get_y() + p.get_height()\n",
        "        plot5.annotate(percentage, (x, y), size = 12)\n",
        "plt.show()"
      ]
    },
    {
      "cell_type": "code",
      "execution_count": null,
      "metadata": {
        "id": "tqDWPK36O_3n"
      },
      "outputs": [],
      "source": [
        "# statistical description of new df1\n",
        "new_df1.describe()"
      ]
    },
    {
      "cell_type": "markdown",
      "source": [
        "### **Label Encording for categorical columns**"
      ],
      "metadata": {
        "id": "Er8EoOnFg-w6"
      }
    },
    {
      "cell_type": "code",
      "execution_count": null,
      "metadata": {
        "id": "TOIypF2SXIcu"
      },
      "outputs": [],
      "source": [
        "# importing label encoder from sklearn library\n",
        "from sklearn.preprocessing import LabelEncoder"
      ]
    },
    {
      "cell_type": "code",
      "execution_count": null,
      "metadata": {
        "id": "sMsNtHskXnJM"
      },
      "outputs": [],
      "source": [
        "# calling label encoder\n",
        "label_encoder=LabelEncoder()"
      ]
    },
    {
      "cell_type": "code",
      "execution_count": null,
      "metadata": {
        "id": "hXIUNoH_X7F2"
      },
      "outputs": [],
      "source": [
        "# transforming categorical column Store Type\n",
        "new_df1.StoreType=label_encoder.fit_transform(new_df1.StoreType)"
      ]
    },
    {
      "cell_type": "code",
      "execution_count": null,
      "metadata": {
        "id": "6Q87b40Ac-n0"
      },
      "outputs": [],
      "source": [
        "# displaying datframe new_df1\n",
        "new_df1"
      ]
    },
    {
      "cell_type": "code",
      "execution_count": null,
      "metadata": {
        "id": "aJNEoxTrW2Ob"
      },
      "outputs": [],
      "source": [
        "# droping the date column\n",
        "new_df1.drop('Date',axis='columns',inplace=True)"
      ]
    },
    {
      "cell_type": "code",
      "execution_count": null,
      "metadata": {
        "id": "9nee1h6sT-Or"
      },
      "outputs": [],
      "source": [
        "# correlation of the dataframe\n",
        "cor=new_df1.corr()"
      ]
    },
    {
      "cell_type": "code",
      "source": [
        "cor"
      ],
      "metadata": {
        "id": "hQSGS5tNjPqg"
      },
      "execution_count": null,
      "outputs": []
    },
    {
      "cell_type": "code",
      "source": [
        "new_df1['Sales'].value_counts()"
      ],
      "metadata": {
        "id": "Z2PicH3S6ieR"
      },
      "execution_count": null,
      "outputs": []
    },
    {
      "cell_type": "code",
      "source": [
        "new_df1['Customers'].value_counts()"
      ],
      "metadata": {
        "id": "zIXo41ES7BSg"
      },
      "execution_count": null,
      "outputs": []
    },
    {
      "cell_type": "code",
      "source": [
        "# plotting heatmap for better understanding correlation between columns\n",
        "sns.heatmap(data=cor,cmap='tab20')"
      ],
      "metadata": {
        "id": "nrE5sGMAiSAh"
      },
      "execution_count": null,
      "outputs": []
    },
    {
      "cell_type": "code",
      "source": [
        "new_df1.columns"
      ],
      "metadata": {
        "id": "OF4fppN1kiGm"
      },
      "execution_count": null,
      "outputs": []
    },
    {
      "cell_type": "code",
      "source": [
        "# dropping dayof week as it has lowest correlation with sales\n",
        "new_df1=new_df1.drop('DayOfWeek',axis='columns')"
      ],
      "metadata": {
        "id": "WeMS5J6jkPa8"
      },
      "execution_count": null,
      "outputs": []
    },
    {
      "cell_type": "code",
      "source": [
        "new_df1.columns"
      ],
      "metadata": {
        "id": "qiUtyh3RlBQu"
      },
      "execution_count": null,
      "outputs": []
    },
    {
      "cell_type": "code",
      "execution_count": null,
      "metadata": {
        "id": "vdegWzbNgVhZ"
      },
      "outputs": [],
      "source": [
        "# label encoding\n",
        "new_df1['Assortment']=label_encoder.fit_transform(new_df1['Assortment'])"
      ]
    },
    {
      "cell_type": "code",
      "execution_count": null,
      "metadata": {
        "id": "ZymtoZ5Qgqrh"
      },
      "outputs": [],
      "source": [
        "# dumming column promointerval values\n",
        "dumm=pd.get_dummies(new_df1['PromoInterval'])\n",
        "new_df2=pd.concat([dumm,new_df1],axis=1)\n",
        "new_df2"
      ]
    },
    {
      "cell_type": "code",
      "execution_count": null,
      "metadata": {
        "id": "kskF5qowgxoR"
      },
      "outputs": [],
      "source": [
        "# dropping columns\n",
        "new_df2.drop([0,'PromoInterval'],axis=1,inplace=True)\n",
        "new_df2"
      ]
    },
    {
      "cell_type": "code",
      "execution_count": null,
      "metadata": {
        "id": "BGN_07zZ8znP"
      },
      "outputs": [],
      "source": [
        "new_df2.CompetitionDistance.describe()"
      ]
    },
    {
      "cell_type": "code",
      "execution_count": null,
      "metadata": {
        "id": "nX3hw96zjaMl"
      },
      "outputs": [],
      "source": [
        "new_df2.StateHoliday.unique()"
      ]
    },
    {
      "cell_type": "code",
      "execution_count": null,
      "metadata": {
        "id": "NadhGxjfjfij"
      },
      "outputs": [],
      "source": [
        "new_df2.StateHoliday=label_encoder.fit_transform(new_df2.StateHoliday)"
      ]
    },
    {
      "cell_type": "code",
      "execution_count": null,
      "metadata": {
        "id": "LI52CP4Gj-AJ"
      },
      "outputs": [],
      "source": [
        "new_df2.info()"
      ]
    },
    {
      "cell_type": "code",
      "execution_count": null,
      "metadata": {
        "id": "Ud1WN791lXS1"
      },
      "outputs": [],
      "source": [
        "# shape new_df2\n",
        "new_df2.shape"
      ]
    },
    {
      "cell_type": "code",
      "execution_count": null,
      "metadata": {
        "id": "MsvcdCsQPpB8"
      },
      "outputs": [],
      "source": [
        "new_df2"
      ]
    },
    {
      "cell_type": "code",
      "execution_count": null,
      "metadata": {
        "id": "e4lHaimylgc7"
      },
      "outputs": [],
      "source": [
        "new_df2.columns"
      ]
    },
    {
      "cell_type": "code",
      "execution_count": null,
      "metadata": {
        "id": "rK9pg3N_l0YV"
      },
      "outputs": [],
      "source": [
        "new_df2.describe()"
      ]
    },
    {
      "cell_type": "code",
      "execution_count": null,
      "metadata": {
        "id": "zB7NQF7yUlmi"
      },
      "outputs": [],
      "source": [
        "# using log for columns whinch have large values\n",
        "new_df2['Customer_lg'] = new_df2['Customers'].map(lambda x : np.log(x) if x != 0 else 0)\n",
        "new_df2['CompetitionDistance_lg'] = new_df2['CompetitionDistance'].map(lambda x : np.log(x) if x != 0 else 0)\n"
      ]
    },
    {
      "cell_type": "code",
      "execution_count": null,
      "metadata": {
        "id": "pN6unpA9YEE-"
      },
      "outputs": [],
      "source": [
        "new_df2.Promo2SinceYear.value_counts()"
      ]
    },
    {
      "cell_type": "code",
      "execution_count": null,
      "metadata": {
        "id": "GZYO8KO7XvXy"
      },
      "outputs": [],
      "source": [
        "new_df2"
      ]
    },
    {
      "cell_type": "code",
      "source": [
        "new_df2[new_df2['Customers']!=0]"
      ],
      "metadata": {
        "id": "JZpWeETc_MuK"
      },
      "execution_count": null,
      "outputs": []
    },
    {
      "cell_type": "code",
      "execution_count": null,
      "metadata": {
        "id": "3BVnGpRFXFDl"
      },
      "outputs": [],
      "source": [
        "# plotting histogram and checking mean and median\n",
        "fig=plt.figure(figsize=(10,8))\n",
        "ax=fig.gca()\n",
        "new_df2['Customers'].hist(bins=50,ax=ax)\n",
        "ax.axvline(new_df2.Customers.mean(),color='r',ls= 'dotted',linewidth=3)\n",
        "\n",
        "ax.axvline(new_df2.Customers.median(),color='orange',ls= 'dotted',linewidth=3)\n",
        "plt.title('Customer')"
      ]
    },
    {
      "cell_type": "code",
      "execution_count": null,
      "metadata": {
        "id": "BQYv_vIKaejx"
      },
      "outputs": [],
      "source": [
        "# plotting histogram and checking mean and median\n",
        "fig=plt.figure(figsize=(10,8))\n",
        "ax=fig.gca()\n",
        "new_df2.CompetitionDistance.hist(bins=50,ax=ax)\n",
        "ax.axvline(new_df2.CompetitionDistance.mean(),color='r',ls= 'dotted',linewidth=3)\n",
        "\n",
        "ax.axvline(new_df2.CompetitionDistance.median(),color='orange',ls= 'dotted',linewidth=3)\n",
        "plt.title('Competiton Distance')"
      ]
    },
    {
      "cell_type": "code",
      "source": [
        "new_df2.columns"
      ],
      "metadata": {
        "id": "SZUYCokLsT3K"
      },
      "execution_count": null,
      "outputs": []
    },
    {
      "cell_type": "code",
      "execution_count": null,
      "metadata": {
        "id": "UMAe2-WCcRET"
      },
      "outputs": [],
      "source": [
        "# droping columns\n",
        "new_df2.drop(['Customers','CompetitionDistance','Store'],axis='columns',inplace=True)"
      ]
    },
    {
      "cell_type": "code",
      "execution_count": null,
      "metadata": {
        "id": "RCCOs2l2mrb0"
      },
      "outputs": [],
      "source": [
        "# dependent variable\n",
        "y= new_df2['Sales']"
      ]
    },
    {
      "cell_type": "code",
      "execution_count": null,
      "metadata": {
        "id": "xVcJirZxSOIT"
      },
      "outputs": [],
      "source": [
        "y"
      ]
    },
    {
      "cell_type": "code",
      "source": [
        "#  independent variable\n",
        "x=new_df2.drop('Sales',axis='columns')"
      ],
      "metadata": {
        "id": "UHv5n2myE-7v"
      },
      "execution_count": null,
      "outputs": []
    },
    {
      "cell_type": "code",
      "source": [
        "x"
      ],
      "metadata": {
        "id": "gkCHzbv4FCZC"
      },
      "execution_count": null,
      "outputs": []
    },
    {
      "cell_type": "code",
      "source": [
        "x.columns"
      ],
      "metadata": {
        "id": "FgLcrh-4FEnj"
      },
      "execution_count": null,
      "outputs": []
    },
    {
      "cell_type": "markdown",
      "source": [
        "### **Dividing data in train and test dataset**"
      ],
      "metadata": {
        "id": "ZZHPJAVuFHyG"
      }
    },
    {
      "cell_type": "code",
      "source": [
        "# importing train test split\n",
        "from sklearn.model_selection import train_test_split"
      ],
      "metadata": {
        "id": "V_qcMXTIFMp2"
      },
      "execution_count": null,
      "outputs": []
    },
    {
      "cell_type": "code",
      "source": [
        "xtrain,xtest,ytrain,ytest= train_test_split(x,y, test_size= 0.2, random_state=0)"
      ],
      "metadata": {
        "id": "_EPyI7AyFPdS"
      },
      "execution_count": null,
      "outputs": []
    },
    {
      "cell_type": "code",
      "source": [
        "ytrain"
      ],
      "metadata": {
        "id": "8YkOETm9FSA0"
      },
      "execution_count": null,
      "outputs": []
    },
    {
      "cell_type": "code",
      "source": [
        "new_df2.shape"
      ],
      "metadata": {
        "id": "3lSLx_kxFU-q"
      },
      "execution_count": null,
      "outputs": []
    },
    {
      "cell_type": "code",
      "source": [
        "xtrain"
      ],
      "metadata": {
        "id": "_1ncjqHoFW_e"
      },
      "execution_count": null,
      "outputs": []
    },
    {
      "cell_type": "code",
      "source": [
        "xtest.shape"
      ],
      "metadata": {
        "id": "Z-PasJ51FYsb"
      },
      "execution_count": null,
      "outputs": []
    },
    {
      "cell_type": "markdown",
      "source": [
        "### **Linear Regression model**"
      ],
      "metadata": {
        "id": "kvaL2amSh5xJ"
      }
    },
    {
      "cell_type": "code",
      "source": [
        "# importing linearregression model from sklearn.linear_model\n",
        "from sklearn.linear_model import LinearRegression as LR"
      ],
      "metadata": {
        "id": "76k0boIIiA9z"
      },
      "execution_count": null,
      "outputs": []
    },
    {
      "cell_type": "code",
      "source": [
        "# calling linear model\n",
        "lr_model= LR()"
      ],
      "metadata": {
        "id": "6NdvlmFwiFYY"
      },
      "execution_count": null,
      "outputs": []
    },
    {
      "cell_type": "code",
      "source": [
        "# importing cross validation\n",
        "from sklearn.model_selection import cross_val_score"
      ],
      "metadata": {
        "id": "IOYcPAU6iH5e"
      },
      "execution_count": null,
      "outputs": []
    },
    {
      "cell_type": "code",
      "source": [
        "# mean score for cross validation for linear model\n",
        "cross_val_score(lr_model,xtrain,ytrain,cv=10).mean()"
      ],
      "metadata": {
        "id": "bTNYdukViJc1"
      },
      "execution_count": null,
      "outputs": []
    },
    {
      "cell_type": "code",
      "source": [
        "# fitting train data into linear model \n",
        "lr_model.fit(xtrain,ytrain)"
      ],
      "metadata": {
        "id": "_M3GD2XZiK67"
      },
      "execution_count": null,
      "outputs": []
    },
    {
      "cell_type": "code",
      "source": [
        "ytest"
      ],
      "metadata": {
        "id": "7CktgHZTiM0N"
      },
      "execution_count": null,
      "outputs": []
    },
    {
      "cell_type": "code",
      "source": [
        "ytrain"
      ],
      "metadata": {
        "id": "lhnyUwqfiOV8"
      },
      "execution_count": null,
      "outputs": []
    },
    {
      "cell_type": "code",
      "source": [
        "xtrain\n"
      ],
      "metadata": {
        "id": "RvTkVCQ1iP_a"
      },
      "execution_count": null,
      "outputs": []
    },
    {
      "cell_type": "code",
      "source": [
        "# ytrain predict value\n",
        "y_pred=lr_model.predict(xtrain)"
      ],
      "metadata": {
        "id": "Eb1yUZJTiSFb"
      },
      "execution_count": null,
      "outputs": []
    },
    {
      "cell_type": "code",
      "source": [
        "ytrain.shape"
      ],
      "metadata": {
        "id": "dYityvGwiT1r"
      },
      "execution_count": null,
      "outputs": []
    },
    {
      "cell_type": "code",
      "source": [
        "y_pred.shape"
      ],
      "metadata": {
        "id": "2xX-ZX0liV5N"
      },
      "execution_count": null,
      "outputs": []
    },
    {
      "cell_type": "code",
      "source": [
        "# importing r2score for accuracy\n",
        "from sklearn.metrics import r2_score"
      ],
      "metadata": {
        "id": "y2jC8f7FiY9w"
      },
      "execution_count": null,
      "outputs": []
    },
    {
      "cell_type": "code",
      "source": [
        "# training and predicted score\n",
        "r2_score(ytrain,y_pred)"
      ],
      "metadata": {
        "id": "tDp4PEZ2iaaj"
      },
      "execution_count": null,
      "outputs": []
    },
    {
      "cell_type": "code",
      "source": [
        "y_testpred=lr_model.predict(xtest)"
      ],
      "metadata": {
        "id": "DkLYAlr7icdk"
      },
      "execution_count": null,
      "outputs": []
    },
    {
      "cell_type": "code",
      "source": [
        "# testing and test predict score\n",
        "r2_score(ytest,y_testpred)"
      ],
      "metadata": {
        "id": "xOW08i18ieI7"
      },
      "execution_count": null,
      "outputs": []
    },
    {
      "cell_type": "markdown",
      "source": [
        "**Linear Regression model has test score 86.16% .**"
      ],
      "metadata": {
        "id": "La2MXA7ZihUT"
      }
    },
    {
      "cell_type": "markdown",
      "source": [
        "## **Regularisation using Lasso Regularisation**"
      ],
      "metadata": {
        "id": "zRlY_Paqwlm2"
      }
    },
    {
      "cell_type": "code",
      "source": [
        "# import linear model from sklearn\n",
        "from sklearn import linear_model"
      ],
      "metadata": {
        "id": "2VBzegkfwnLR"
      },
      "execution_count": null,
      "outputs": []
    },
    {
      "cell_type": "code",
      "source": [
        "# calling Lasso from linear model \n",
        "lass_reg= linear_model.Lasso(alpha=0.1,max_iter=100,)"
      ],
      "metadata": {
        "id": "h3dL8XAEwqFs"
      },
      "execution_count": null,
      "outputs": []
    },
    {
      "cell_type": "code",
      "source": [
        "# train score\n",
        "cross_val_score(lass_reg,xtrain,ytrain,cv=10).mean()"
      ],
      "metadata": {
        "id": "GyjIrWDzw2Jx"
      },
      "execution_count": null,
      "outputs": []
    },
    {
      "cell_type": "code",
      "source": [
        "# fitting train dataset into lasso reg model\n",
        "lass_reg.fit(xtrain,ytrain)"
      ],
      "metadata": {
        "id": "a4K_kPJ3wsjs"
      },
      "execution_count": null,
      "outputs": []
    },
    {
      "cell_type": "code",
      "source": [
        "ytestprdict=lass_reg.predict(xtest)"
      ],
      "metadata": {
        "id": "lPNMVkdjwvE-"
      },
      "execution_count": null,
      "outputs": []
    },
    {
      "cell_type": "code",
      "source": [
        "ytrainpred=lass_reg.predict(xtrain)"
      ],
      "metadata": {
        "id": "eEh4oMC9wxo3"
      },
      "execution_count": null,
      "outputs": []
    },
    {
      "cell_type": "code",
      "source": [
        "ytest"
      ],
      "metadata": {
        "id": "3CzVvnqhw0c6"
      },
      "execution_count": null,
      "outputs": []
    },
    {
      "cell_type": "code",
      "source": [
        "# test score\n",
        "lass_reg.score(xtest,ytest)"
      ],
      "metadata": {
        "id": "qbQZWQMNw363"
      },
      "execution_count": null,
      "outputs": []
    },
    {
      "cell_type": "code",
      "source": [
        "# train score using r2 score\n",
        "r2_score(ytrain,ytrainpred)"
      ],
      "metadata": {
        "id": "gKpqSlAXw56Z"
      },
      "execution_count": null,
      "outputs": []
    },
    {
      "cell_type": "code",
      "source": [
        "# test score using r2 score\n",
        "r2_score(ytest,ytestprdict)"
      ],
      "metadata": {
        "id": "r9ecoMb8w-M2"
      },
      "execution_count": null,
      "outputs": []
    },
    {
      "cell_type": "markdown",
      "source": [
        "### **After regularisation has test score approx 85.69%**"
      ],
      "metadata": {
        "id": "PGQEm7qvxAgD"
      }
    },
    {
      "cell_type": "markdown",
      "source": [
        "### **Decision Tree Regressor**"
      ],
      "metadata": {
        "id": "GR2-wMdsxCbu"
      }
    },
    {
      "cell_type": "code",
      "source": [
        "# importing decision tree regressor model\n",
        "from sklearn.tree import DecisionTreeRegressor"
      ],
      "metadata": {
        "id": "B6d1vIBExBpq"
      },
      "execution_count": null,
      "outputs": []
    },
    {
      "cell_type": "code",
      "source": [
        "# calling decision tree\n",
        "decision=DecisionTreeRegressor(random_state=10)"
      ],
      "metadata": {
        "id": "nYPmsNk8xIqV"
      },
      "execution_count": null,
      "outputs": []
    },
    {
      "cell_type": "code",
      "source": [
        "# cross validation score for decision model\n",
        "cross_val_score(decision,xtrain,ytrain,cv=10).mean()"
      ],
      "metadata": {
        "id": "66yHcdT3xK7l"
      },
      "execution_count": null,
      "outputs": []
    },
    {
      "cell_type": "code",
      "source": [
        "decision.fit(xtrain,ytrain)"
      ],
      "metadata": {
        "id": "s8wlpGYDzxdH"
      },
      "execution_count": null,
      "outputs": []
    },
    {
      "cell_type": "code",
      "source": [
        "# predicting ytest\n",
        "ytestpred=decision.predict(xtest)"
      ],
      "metadata": {
        "id": "vC5bAMVzxN6s"
      },
      "execution_count": null,
      "outputs": []
    },
    {
      "cell_type": "code",
      "source": [
        "# test score\n",
        "decision.score(xtest,ytest)"
      ],
      "metadata": {
        "id": "bndTk5oVxSje"
      },
      "execution_count": null,
      "outputs": []
    },
    {
      "cell_type": "markdown",
      "source": [
        "### **Decision tree Regressor model has test score approx 97.12%**"
      ],
      "metadata": {
        "id": "rCEjWU3mxZ4D"
      }
    }
  ],
  "metadata": {
    "colab": {
      "collapsed_sections": [
        "Y06xIdG26kRF"
      ],
      "provenance": [],
      "include_colab_link": true
    },
    "kernelspec": {
      "display_name": "Python 3",
      "language": "python",
      "name": "python3"
    },
    "language_info": {
      "codemirror_mode": {
        "name": "ipython",
        "version": 3
      },
      "file_extension": ".py",
      "mimetype": "text/x-python",
      "name": "python",
      "nbconvert_exporter": "python",
      "pygments_lexer": "ipython3",
      "version": "3.6.6"
    }
  },
  "nbformat": 4,
  "nbformat_minor": 0
}